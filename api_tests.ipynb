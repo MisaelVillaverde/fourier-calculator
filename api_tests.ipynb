{
 "cells": [
  {
   "cell_type": "code",
   "execution_count": 6,
   "source": [
    "import requests\r\n",
    "import json"
   ],
   "outputs": [],
   "metadata": {}
  },
  {
   "cell_type": "code",
   "execution_count": 2,
   "source": [
    "session = requests.session()"
   ],
   "outputs": [],
   "metadata": {}
  },
  {
   "cell_type": "code",
   "execution_count": 15,
   "source": [
    "token = session.get(\"https://es.symbolab.com/solver/step-by-step/x%5E%7B2%7D?or=input\").cookies.get_dict()[\"sy2.pub.token\"]"
   ],
   "outputs": [],
   "metadata": {}
  },
  {
   "cell_type": "code",
   "execution_count": 17,
   "source": [
    "response = json.loads(session.get(\"https://es.symbolab.com/pub_api/steps?subscribed=true&origin=input&language=es&query=%5Cint+tcos%5Cleft(nt%5Cright)dt+&referer=https%3A%2F%2Fes.symbolab.com%2Fsolver%2Fstep-by-step%2F%255Cint_%257B%2520%257Dtcos%255Cleft(nt%255Cright)dt%2520%3For%3Dinput&plotRequest=PlotOptional&page=step-by-step\",headers={\r\n",
    "    \"x-requested-with\":\"XMLHttpRequest\",\r\n",
    "    \"authorization\":f\"Bearer {token}\"\r\n",
    "}).content)\r\n",
    "response"
   ],
   "outputs": [
    {
     "output_type": "execute_result",
     "data": {
      "text/plain": [
       "{'dym': {'inputEquation': '\\\\int tcos\\\\left(nt\\\\right)dt',\n",
       "  'originalEquation': '\\\\int tcos\\\\left(nt\\\\right)dt',\n",
       "  'outEquation': '\\\\int t\\\\cos(nt)dt ',\n",
       "  'dymEquation': '\\\\int tcos\\\\left(nt\\\\right)dt',\n",
       "  'isTemplate': False,\n",
       "  'showDidYouMean': True,\n",
       "  'showInstead': False,\n",
       "  'origin': 'input'},\n",
       " 'dymAlternatives': [],\n",
       " 'standardQuery': '\\\\int t\\\\cos(nt)dt',\n",
       " 'stepLang': 'es',\n",
       " 'isFromCache': True,\n",
       " 'isInNotebook': False,\n",
       " 'showVerify': True,\n",
       " 'showViewLarger': True,\n",
       " 'canonicalNotebookQuery': '\\\\int\\\\:t\\\\cos(nt)dt',\n",
       " 'relatedProblems': [],\n",
       " 'subject': 'Calculus',\n",
       " 'topic': 'Integrals',\n",
       " 'subTopic': 'Indefinite Integrals',\n",
       " 'solutions': [{'step_input': '\\\\int t\\\\cos(nt)dt',\n",
       "   'entire_result': '=\\\\frac{1}{n^{2}}(nt\\\\sin(nt)+\\\\cos(nt))+C',\n",
       "   'solvingClass': 'Integrals',\n",
       "   'isInterimStep': True,\n",
       "   'isOpen': False,\n",
       "   'isShowSolutionAfterStep': False,\n",
       "   'title': {'text': {'createdText': '\\\\int t\\\\cos(nt)dt=\\\\frac{1}{n^{2}}(nt\\\\sin(nt)+\\\\cos(nt))+C'}},\n",
       "   'steps': [{'step_input': '\\\\int t\\\\cos(nt)dt',\n",
       "     'step_output': '\\\\int \\\\frac{u\\\\cos(u)}{n^{2}}du',\n",
       "     'entire_result': '=\\\\int \\\\frac{u\\\\cos(u)}{n^{2}}du',\n",
       "     'isInterimStep': False,\n",
       "     'isOpen': False,\n",
       "     'isShowSolutionAfterStep': False,\n",
       "     'steps': [{'interimType': '4OvFE//4flVAvx3ig0bUGNY5l+baRh9Fz7PKe618YX0=',\n",
       "       'isInterimStep': True,\n",
       "       'isOpen': False,\n",
       "       'isShowSolutionAfterStep': False,\n",
       "       'isLocked': True,\n",
       "       'title': {'text': {'createdText': '\\\\mathrm{Aplicar integración por sustitución:} u=nt'}},\n",
       "       'explanation': [{'createdText': '\\\\mathrm{Locked\\\\:Content}'}],\n",
       "       'practiceLink': '/practice/integration-practice#area=main&subtopic=Substitution',\n",
       "       'practiceTopic': 'Integral Substitution'}]},\n",
       "    {'step_input': '\\\\int \\\\frac{u\\\\cos(u)}{n^{2}}du',\n",
       "     'step_output': '\\\\frac{1}{n^{2}}\\\\int u\\\\cos(u)du',\n",
       "     'entire_result': '=\\\\frac{1}{n^{2}}\\\\cdot \\\\int u\\\\cos(u)du',\n",
       "     'isInterimStep': False,\n",
       "     'isOpen': False,\n",
       "     'isShowSolutionAfterStep': False,\n",
       "     'title': {'text': {'createdText': '\\\\mathrm{Sacar la constante}'}},\n",
       "     'general_rule': {'text': {'createdText': '\\\\int{a\\\\cdot{f(x)}dx}=a\\\\cdot\\\\int{f(x)dx}'}}},\n",
       "    {'step_input': '\\\\int u\\\\cos(u)du',\n",
       "     'step_output': 'u\\\\sin(u)-\\\\int \\\\sin(u)du',\n",
       "     'entire_result': '=\\\\frac{1}{n^{2}}(u\\\\sin(u)-\\\\int \\\\sin(u)du)',\n",
       "     'isInterimStep': False,\n",
       "     'isOpen': False,\n",
       "     'isShowSolutionAfterStep': False,\n",
       "     'steps': [{'interimType': 'NsBjkja0MImRekfYY9hW0W588kq/EQbH5Skgk5mFSo8=',\n",
       "       'isInterimStep': True,\n",
       "       'isOpen': False,\n",
       "       'isShowSolutionAfterStep': False,\n",
       "       'isLocked': True,\n",
       "       'title': {'text': {'createdText': \"\\\\mathrm{Aplicar integración por partes:} u=u, v'=\\\\cos(u)\"}},\n",
       "       'explanation': [{'createdText': '\\\\mathrm{Locked\\\\:Content}'}],\n",
       "       'practiceLink': '/practice/integration-practice#area=main&subtopic=Integration%20By%20Parts',\n",
       "       'practiceTopic': 'Integration by Parts'}]},\n",
       "    {'entire_result': '=\\\\frac{1}{n^{2}}(u\\\\sin(u)-(-\\\\cos(u)))',\n",
       "     'isInterimStep': False,\n",
       "     'isOpen': False,\n",
       "     'isShowSolutionAfterStep': False,\n",
       "     'steps': [{'entire_result': '=-\\\\cos(u)',\n",
       "       'solvingClass': 'Integrals',\n",
       "       'interimType': 'JeDKcpeaAIp7o0aGHEn1vA==',\n",
       "       'isInterimStep': True,\n",
       "       'isOpen': False,\n",
       "       'isShowSolutionAfterStep': False,\n",
       "       'isLocked': True,\n",
       "       'title': {'text': {'createdText': '\\\\int \\\\sin(u)du=-\\\\cos(u)'}},\n",
       "       'explanation': [{'createdText': '\\\\mathrm{Locked\\\\:Content}'}]}]},\n",
       "    {'entire_result': '=\\\\frac{1}{n^{2}}(nt\\\\sin(nt)-(-\\\\cos(nt)))',\n",
       "     'isInterimStep': False,\n",
       "     'isOpen': False,\n",
       "     'isShowSolutionAfterStep': False,\n",
       "     'explanation': [{'createdText': '\\\\mathrm{Sustituir en la ecuación} u=nt'}]},\n",
       "    {'step_input': '\\\\frac{1}{n^{2}}(nt\\\\sin(nt)-(-\\\\cos(nt)))',\n",
       "     'step_output': '\\\\frac{1}{n^{2}}(nt\\\\sin(nt)+\\\\cos(nt))',\n",
       "     'entire_result': '=\\\\frac{1}{n^{2}}(nt\\\\sin(nt)+\\\\cos(nt))',\n",
       "     'solvingClass': 'Solver',\n",
       "     'isInterimStep': False,\n",
       "     'isOpen': False,\n",
       "     'isShowSolutionAfterStep': False,\n",
       "     'title': {'text': {'createdText': '\\\\mathrm{Simplificar}'}}},\n",
       "    {'entire_result': '=\\\\frac{1}{n^{2}}(nt\\\\sin(nt)+\\\\cos(nt))+C',\n",
       "     'isInterimStep': False,\n",
       "     'isOpen': False,\n",
       "     'isShowSolutionAfterStep': False,\n",
       "     'title': {'text': {'createdText': '\\\\mathrm{Agregar una constante a la solución}'},\n",
       "      'extension': {'createdText': '\\\\mathrm{Si }\\\\frac{dF(x)}{dx}=f(x)\\\\mathrm{ entonces }\\\\int{f(x)}dx=F(x)+C'}}}],\n",
       "   'practiceLink': '/practice/integration-practice#area=main&subtopic=Integration%20By%20Parts',\n",
       "   'practiceTopic': 'Integration by Parts'}],\n",
       " 'plotInfo': {'variable': 't',\n",
       "  'linesToDraw': [],\n",
       "  'fills': [],\n",
       "  'functionChanges': [],\n",
       "  'graphCalcInputErrors': [],\n",
       "  'plotRequest': 'y=\\\\frac{1}{n^{2}}(nt\\\\sin(nt)+\\\\cos(nt))+C',\n",
       "  'isInCache': False},\n",
       " 'solutionLevel': 'PERFORMED'}"
      ]
     },
     "metadata": {},
     "execution_count": 17
    }
   ],
   "metadata": {}
  },
  {
   "cell_type": "code",
   "execution_count": null,
   "source": [],
   "outputs": [],
   "metadata": {}
  },
  {
   "cell_type": "code",
   "execution_count": null,
   "source": [],
   "outputs": [],
   "metadata": {}
  }
 ],
 "metadata": {
  "orig_nbformat": 4,
  "language_info": {
   "name": "python",
   "version": "3.9.6",
   "mimetype": "text/x-python",
   "codemirror_mode": {
    "name": "ipython",
    "version": 3
   },
   "pygments_lexer": "ipython3",
   "nbconvert_exporter": "python",
   "file_extension": ".py"
  },
  "kernelspec": {
   "name": "python3",
   "display_name": "Python 3.9.6 64-bit"
  },
  "interpreter": {
   "hash": "c0324db17fedee599ac1dcdcad14da199bc107742df327d4f308a86dc88fb605"
  }
 },
 "nbformat": 4,
 "nbformat_minor": 2
}