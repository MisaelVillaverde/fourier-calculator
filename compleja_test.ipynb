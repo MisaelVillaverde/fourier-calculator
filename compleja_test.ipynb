{
 "cells": [
  {
   "cell_type": "code",
   "execution_count": 1,
   "metadata": {},
   "outputs": [],
   "source": [
    "import requests\n",
    "import json\n",
    "from IPython.display import display, Math, Latex\n",
    "import re"
   ]
  },
  {
   "cell_type": "code",
   "execution_count": 4,
   "metadata": {},
   "outputs": [
    {
     "data": {
      "text/plain": [
       "{'dym': {'inputEquation': '-\\\\frac{1}{n}(\\\\pi)\\\\cos(n(\\\\pi))+\\\\frac{1}{n^{2}}\\\\sin(n(\\\\pi)) - (-\\\\frac{1}{n}(-\\\\pi)\\\\cos(n(-\\\\pi))+\\\\frac{1}{n^{2}}\\\\sin(n(-\\\\pi)))',\n",
       "  'originalEquation': '-\\\\frac{1}{n}(\\\\pi)\\\\cos(n(\\\\pi))+\\\\frac{1}{n^{2}}\\\\sin(n(\\\\pi)) - (-\\\\frac{1}{n}(-\\\\pi)\\\\cos(n(-\\\\pi))+\\\\frac{1}{n^{2}}\\\\sin(n(-\\\\pi)))',\n",
       "  'outEquation': '-\\\\frac{1}{n}(π)\\\\cos(n(π))+\\\\frac{1}{n^{2}}\\\\sin(n(π))-(-\\\\frac{1}{n}(-π)\\\\cos(n(-π))+\\\\frac{1}{n^{2}}\\\\sin(n(-π))) ',\n",
       "  'dymEquation': 'f(n)=-\\\\frac{1}{n}(π)\\\\cos(n(π))+\\\\frac{1}{n^{2}}\\\\sin(n(π))-(-\\\\frac{1}{n}(-π)\\\\cos(n(-π))+\\\\frac{1}{n^{2}}\\\\sin(n(-π))) ',\n",
       "  'isTemplate': False,\n",
       "  'showDidYouMean': True,\n",
       "  'showInstead': True,\n",
       "  'origin': 'input'},\n",
       " 'dymAlternatives': [{'command': '',\n",
       "   'equation': 'f(n)=-\\\\frac{1}{n}(π)\\\\cos(n(π))+\\\\frac{1}{n^{2}}\\\\sin(n(π))-(-\\\\frac{1}{n}(-π)\\\\cos(n(-π))+\\\\frac{1}{n^{2}}\\\\sin(n(-π)))'},\n",
       "  {'command': '',\n",
       "   'equation': '\\\\frac{d}{dn}(-\\\\frac{1}{n}(π)\\\\cos(n(π))+\\\\frac{1}{n^{2}}\\\\sin(n(π))-(-\\\\frac{1}{n}(-π)\\\\cos(n(-π))+\\\\frac{1}{n^{2}}\\\\sin(n(-π))))'}],\n",
       " 'standardQuery': '-\\\\frac{1}{n}(π)\\\\cos(n(π))+\\\\frac{1}{n^{2}}\\\\sin(n(π))-(-\\\\frac{1}{n}(-π)\\\\cos(n(-π))+\\\\frac{1}{n^{2}}\\\\sin(n(-π)))',\n",
       " 'stepLang': 'es',\n",
       " 'isFromCache': True,\n",
       " 'isInNotebook': False,\n",
       " 'showVerify': True,\n",
       " 'showViewLarger': False,\n",
       " 'canonicalNotebookQuery': '-\\\\frac{1}{n}(π)\\\\cos(n(π))+\\\\frac{1}{n^{2}}\\\\sin(n(π))-(-\\\\frac{1}{n}(-π)\\\\cos(n(-π))+\\\\frac{1}{n^{2}}\\\\sin(n(-π)))',\n",
       " 'relatedProblems': [],\n",
       " 'subject': 'Algebra',\n",
       " 'topic': 'Algebra',\n",
       " 'subTopic': 'Trigonometry',\n",
       " 'solutions': [{'step_input': '-\\\\frac{1}{n}(π)\\\\cos(n(π))+\\\\frac{1}{n^{2}}\\\\sin(n(π))-(-\\\\frac{1}{n}(-π)\\\\cos(n(-π))+\\\\frac{1}{n^{2}}\\\\sin(n(-π)))',\n",
       "   'entire_result': '=-\\\\frac{2π(-1)^{n}}{n}',\n",
       "   'solvingClass': 'Solver',\n",
       "   'isInterimStep': True,\n",
       "   'isOpen': False,\n",
       "   'isShowSolutionAfterStep': True,\n",
       "   'title': {'text': {'createdText': '-\\\\frac{1}{n}(π)\\\\cos(n(π))+\\\\frac{1}{n^{2}}\\\\sin(n(π))-(-\\\\frac{1}{n}(-π)\\\\cos(n(-π))+\\\\frac{1}{n^{2}}\\\\sin(n(-π)))=-\\\\frac{2π(-1)^{n}}{n}'}},\n",
       "   'steps': [{'step_input': '-\\\\frac{1}{n}π\\\\cos(nπ)+\\\\frac{1}{n^{2}}\\\\sin(nπ)-(-\\\\frac{1}{n}(-π)\\\\cos(n(-π))+\\\\frac{1}{n^{2}}\\\\sin(n(-π)))',\n",
       "     'entire_result': '=-(\\\\sin(n(-π))\\\\frac{1}{n^{2}}-\\\\cos(n(-π))\\\\frac{1}{n}(-π))+0\\\\cdot \\\\frac{1}{n^{2}}-π\\\\cos(nπ)\\\\frac{1}{n}',\n",
       "     'isInterimStep': False,\n",
       "     'isOpen': False,\n",
       "     'isShowSolutionAfterStep': False,\n",
       "     'title': {'text': {'createdText': '\\\\mathrm{Utilizar la identidad trigonométrica básica}'}},\n",
       "     'general_rule': {'text': {'createdText': '\\\\sin(nπ)=0'}}},\n",
       "    {'step_input': '-(\\\\sin(n(-π))\\\\frac{1}{n^{2}}-\\\\cos(n(-π))\\\\frac{1}{n}(-π))+0\\\\cdot \\\\frac{1}{n^{2}}-π\\\\cos(nπ)\\\\frac{1}{n}',\n",
       "     'entire_result': '=-(\\\\sin(n(-π))\\\\frac{1}{n^{2}}-\\\\cos(n(-π))\\\\frac{1}{n}(-π))+0\\\\cdot \\\\frac{1}{n^{2}}-π(-1)^{n}\\\\frac{1}{n}',\n",
       "     'isInterimStep': False,\n",
       "     'isOpen': False,\n",
       "     'isShowSolutionAfterStep': False,\n",
       "     'title': {'text': {'createdText': '\\\\mathrm{Utilizar la identidad trigonométrica básica}'}},\n",
       "     'general_rule': {'text': {'createdText': '\\\\cos(nπ)=(-1)^{n}'}}},\n",
       "    {'entire_result': '=-(\\\\sin(-nπ)\\\\frac{1}{n^{2}}+\\\\cos(-nπ)\\\\frac{1}{n}π)+0\\\\cdot \\\\frac{1}{n^{2}}-π(-1)^{n}\\\\frac{1}{n}',\n",
       "     'isInterimStep': False,\n",
       "     'isOpen': False,\n",
       "     'isShowSolutionAfterStep': False,\n",
       "     'title': {'text': {'createdText': '\\\\mathrm{Quitar los parentesis}'}},\n",
       "     'general_rule': {'text': {'createdText': '(-a)=-a,-(-a)=a'}}},\n",
       "    {'entire_result': '=-\\\\frac{π(-1)^{n}}{n}+0\\\\cdot \\\\frac{1}{n^{2}}-π(-1)^{n}\\\\frac{1}{n}',\n",
       "     'isInterimStep': False,\n",
       "     'isOpen': False,\n",
       "     'isShowSolutionAfterStep': False,\n",
       "     'steps': [{'entire_result': '=-\\\\frac{π(-1)^{n}}{n}',\n",
       "       'solvingClass': 'Solver',\n",
       "       'interimType': 'RqHlhKqZKivYCwXvJ4/ABuhW73RXyDod4Bj03959Wm0=',\n",
       "       'isInterimStep': True,\n",
       "       'isOpen': False,\n",
       "       'isShowSolutionAfterStep': True,\n",
       "       'isLocked': True,\n",
       "       'title': {'text': {'createdText': '-(\\\\sin(-nπ)\\\\frac{1}{n^{2}}+\\\\cos(-nπ)\\\\frac{1}{n}π)=-\\\\frac{π(-1)^{n}}{n}'}},\n",
       "       'explanation': [{'createdText': '\\\\mathrm{Locked\\\\:Content}'}]}]},\n",
       "    {'interimType': 'oVnQ2HJJrq339e3qxfd+v/gId/o8h3jXu6HxhDHcias=',\n",
       "     'isInterimStep': True,\n",
       "     'isOpen': False,\n",
       "     'isShowSolutionAfterStep': True,\n",
       "     'isLocked': True,\n",
       "     'title': {'text': {'createdText': '\\\\mathrm{Simplificar}'}},\n",
       "     'explanation': [{'createdText': '\\\\mathrm{Locked\\\\:Content}'}]}]}],\n",
       " 'solutionLevel': 'PERFORMED'}"
      ]
     },
     "execution_count": 4,
     "metadata": {},
     "output_type": "execute_result"
    }
   ],
   "source": [
    "session = requests.session()\n",
    "token = session.get(\"https://es.symbolab.com/solver/step-by-step/x%5E%7B2%7D?or=input\").cookies.get_dict()[\"sy2.pub.token\"]\n",
    "response = json.loads(session.get(\"https://es.symbolab.com/pub_api/steps?subscribed=true&origin=input&language=es&query=-\\\\frac{1}{n}(\\\\pi)\\\\cos(n(\\\\pi))%2b\\\\frac{1}{n^{2}}\\\\sin(n(\\\\pi)) - (-\\\\frac{1}{n}(-\\\\pi)\\\\cos(n(-\\\\pi))%2b\\\\frac{1}{n^{2}}\\\\sin(n(-\\\\pi)))\",headers={\n",
    "    \"x-requested-with\":\"XMLHttpRequest\",\n",
    "    \"authorization\":f\"Bearer {token}\"\n",
    "}).content)\n",
    "response"
   ]
  },
  {
   "cell_type": "code",
   "execution_count": 5,
   "metadata": {},
   "outputs": [],
   "source": [
    "def evaluate(expression):\n",
    "    expression = expression.replace(\"+\",\"%2b\")\n",
    "    session = requests.session()\n",
    "    token = session.get(\"https://es.symbolab.com/solver/step-by-step/x%5E%7B2%7D?or=input\").cookies.get_dict()[\"sy2.pub.token\"]\n",
    "    response = json.loads(session.get(f\"https://es.symbolab.com/pub_api/steps?subscribed=true&origin=input&language=es&query={expression}\",headers={\n",
    "        \"x-requested-with\":\"XMLHttpRequest\",\n",
    "        \"authorization\":f\"Bearer {token}\"\n",
    "    }).content)\n",
    "    return (response['solutions'][len(response[\"solutions\"])-1][\"entire_result\"].replace(\"=\",\"\"),response[\"solutions\"][0])"
   ]
  },
  {
   "cell_type": "markdown",
   "metadata": {},
   "source": [
    "# FUNCIONES UTILES\n",
    "PORFAVOR NO BORRAR"
   ]
  },
  {
   "cell_type": "code",
   "execution_count": 275,
   "metadata": {},
   "outputs": [],
   "source": [
    "def sumatoria(ns):\n",
    "    total = 0\n",
    "    for valor in ns:\n",
    "        if type(valor) is str:\n",
    "            total += int(valor)\n",
    "        else:\n",
    "            total += valor\n",
    "    return total\n"
   ]
  },
  {
   "cell_type": "code",
   "execution_count": 276,
   "metadata": {},
   "outputs": [],
   "source": [
    "def QuitarCeros(list):\n",
    "    for i in list:\n",
    "        x = re.findall(\"^-?0+$\",i)\n",
    "        print(x)\n",
    "        if len(x) > 0:\n",
    "            list.remove(x[0])\n",
    "            next\n",
    "    return list"
   ]
  },
  {
   "cell_type": "markdown",
   "metadata": {},
   "source": [
    "# Compleja"
   ]
  },
  {
   "cell_type": "code",
   "execution_count": 8,
   "metadata": {},
   "outputs": [],
   "source": [
    "global_steps = []"
   ]
  },
  {
   "cell_type": "code",
   "execution_count": 6,
   "metadata": {},
   "outputs": [],
   "source": [
    "\n",
    "request = {\n",
    "    \"tipo\":  \"\",\n",
    "    \"functions\":[\n",
    "        {\n",
    "            \"f\" : \"0\",\n",
    "            \"r1\": \"4\",\n",
    "            \"r2\": \"+\\\\infty\",\n",
    "        },\n",
    "        {\n",
    "            \"f\": \"0\",\n",
    "            \"r1\": \"0\",\n",
    "            \"r2\": \"-\\\\infty\"\n",
    "        },\n",
    "        {\n",
    "            \"f\": \"t^2-1\",\n",
    "            \"r1\": \"0\",\n",
    "            \"r2\": \"4\"\n",
    "\n",
    "        }\n",
    "    ]\n",
    "}\n",
    "req = request"
   ]
  },
  {
   "cell_type": "markdown",
   "metadata": {},
   "source": [
    "Esta función retorna un nuevo objeto con el que vamos a ver si la función concatena o no, para eso se necesita modificar los datos, porque si es par solo se ve media funcion, pero si no es ni para ni impar, si se hace con todos sus rangos"
   ]
  },
  {
   "cell_type": "markdown",
   "metadata": {},
   "source": [
    "##### funcion NoLess"
   ]
  },
  {
   "cell_type": "code",
   "execution_count": 9,
   "metadata": {},
   "outputs": [],
   "source": [
    "def NoLess(fun):\n",
    "    arraycov= []\n",
    "    if fun[\"tipo\"] == \"par\":\n",
    "        for entity in fun[\"functions\"]:\n",
    "            if entity[\"r1\"] == \"-\\\\infty\":\n",
    "                next\n",
    "            elif entity[\"r2\"] == \"-\\\\infty\":\n",
    "                next\n",
    "            else:\n",
    "                arraycov.append(entity.copy())\n",
    "        for i in arraycov:\n",
    "            x = re.findall(\"^-\\d+\",i[\"r1\"])\n",
    "            if len(x) > 0:\n",
    "                i[\"r1\"] = i[\"r1\"].replace(x[0],\"0\")\n",
    "    else:\n",
    "        for entity in fun[\"functions\"]:\n",
    "            arraycov.append(entity)\n",
    "    return arraycov     "
   ]
  },
  {
   "cell_type": "markdown",
   "metadata": {},
   "source": [
    "#### Validar si converge"
   ]
  },
  {
   "cell_type": "code",
   "execution_count": 10,
   "metadata": {},
   "outputs": [
    {
     "data": {
      "text/latex": [
       "$\\displaystyle \\int{{0}}dt = 0$"
      ],
      "text/plain": [
       "<IPython.core.display.Math object>"
      ]
     },
     "metadata": {},
     "output_type": "display_data"
    },
    {
     "data": {
      "text/latex": [
       "$\\displaystyle (0)-(0) = -0$"
      ],
      "text/plain": [
       "<IPython.core.display.Math object>"
      ]
     },
     "metadata": {},
     "output_type": "display_data"
    },
    {
     "data": {
      "text/latex": [
       "$\\displaystyle \\cdots $"
      ],
      "text/plain": [
       "<IPython.core.display.Math object>"
      ]
     },
     "metadata": {},
     "output_type": "display_data"
    },
    {
     "data": {
      "text/latex": [
       "$\\displaystyle \\int{{0}}dt = 0$"
      ],
      "text/plain": [
       "<IPython.core.display.Math object>"
      ]
     },
     "metadata": {},
     "output_type": "display_data"
    },
    {
     "data": {
      "text/latex": [
       "$\\displaystyle (0)-(0) = -0$"
      ],
      "text/plain": [
       "<IPython.core.display.Math object>"
      ]
     },
     "metadata": {},
     "output_type": "display_data"
    },
    {
     "data": {
      "text/latex": [
       "$\\displaystyle \\cdots $"
      ],
      "text/plain": [
       "<IPython.core.display.Math object>"
      ]
     },
     "metadata": {},
     "output_type": "display_data"
    },
    {
     "data": {
      "text/latex": [
       "$\\displaystyle \\int{{t^2-1}}dt = \\frac{t^{3}}{3}-t$"
      ],
      "text/plain": [
       "<IPython.core.display.Math object>"
      ]
     },
     "metadata": {},
     "output_type": "display_data"
    },
    {
     "data": {
      "text/latex": [
       "$\\displaystyle (\\frac{(4)^{3}}{3}-(4))-(\\frac{(0)^{3}}{3}-(0)) = \\frac{52}{3}$"
      ],
      "text/plain": [
       "<IPython.core.display.Math object>"
      ]
     },
     "metadata": {},
     "output_type": "display_data"
    },
    {
     "data": {
      "text/latex": [
       "$\\displaystyle \\cdots $"
      ],
      "text/plain": [
       "<IPython.core.display.Math object>"
      ]
     },
     "metadata": {},
     "output_type": "display_data"
    },
    {
     "data": {
      "text/plain": [
       "['-0', '-0', '\\\\frac{52}{3}']"
      ]
     },
     "execution_count": 10,
     "metadata": {},
     "output_type": "execute_result"
    }
   ],
   "source": [
    "converge_terms = []\n",
    "functions = NoLess(request)\n",
    "for function in functions:\n",
    "    f = function[\"f\"]\n",
    "    ran1 = function[\"r1\"]\n",
    "    ran2 = function[\"r2\"]\n",
    "    integral_ = \"\\\\int{{\"+f+\"}}dt\"\n",
    "    converge_expr,steps = evaluate(integral_)\n",
    "    converge_expr = converge_expr.replace(\"+C\",\"\")\n",
    "    converge_expr = converge_expr.replace(\"C\",\"0\")\n",
    "    steps[\"comment\"] = \"Obtenemos la integral de convergencia\"\n",
    "    global_steps.append(steps)\n",
    "\n",
    "    #el rango\n",
    "    a = converge_expr.replace(\"t\",f\"(\"+ran2+\")\")\n",
    "    b = converge_expr.replace(\"t\",f\"(\"+ran1+\")\")\n",
    "    converge_definidaexpr = f\"(\"+a+\")-(\"+b+\")\"\n",
    "    converge_definida,steps = evaluate(converge_definidaexpr)\n",
    "    steps[\"comment\"] = \"Obtenemos la integral definida\"\n",
    "    global_steps.append(steps)\n",
    "    converge_terms.append(converge_definida)\n",
    "    display(Math(f\"{integral_} = {converge_expr}\"))\n",
    "    display(Math(f\"{converge_definidaexpr} = {converge_definida}\"))\n",
    "    display(Math(\"\\cdots \"))\n",
    "converge_terms"
   ]
  },
  {
   "cell_type": "code",
   "execution_count": 11,
   "metadata": {},
   "outputs": [],
   "source": [
    "if request[\"tipo\"] == \"par\":\n",
    "    conv,steps = evaluate(\"2\\cdot({\"+'+'.join(converge_terms)+\"})\")\n",
    "else:\n",
    "    conv,steps = evaluate(\"\\cdot({\"+'+'.join(converge_terms)+\"})\")\n",
    "match = re.search(\"^-?\\d+(\\.\\d+)?$\", conv)\n",
    "if match: \n",
    "    display(Math(conv))\n",
    "    steps[\"comment\"] = \"La función si converge\"\n",
    "    global_steps.append(steps)\n",
    "else:\n",
    "    steps[\"comment\"] = \"La función NO converge\"\n",
    "    global_steps.append(steps)"
   ]
  },
  {
   "cell_type": "markdown",
   "metadata": {},
   "source": [
    "### Integral compleja de Fourier"
   ]
  },
  {
   "cell_type": "code",
   "execution_count": 282,
   "metadata": {},
   "outputs": [
    {
     "data": {
      "text/plain": [
       "{'tipo': 'par',\n",
       " 'functions': [{'f': '1', 'r1': '-1', 'r2': '1'},\n",
       "  {'f': '0', 'r1': '-\\\\infty', 'r2': '-1'},\n",
       "  {'f': '0', 'r1': '1', 'r2': '+\\\\infty'}]}"
      ]
     },
     "execution_count": 282,
     "metadata": {},
     "output_type": "execute_result"
    }
   ],
   "source": [
    "request"
   ]
  },
  {
   "cell_type": "code",
   "execution_count": 12,
   "metadata": {},
   "outputs": [
    {
     "data": {
      "text/latex": [
       "$\\displaystyle \\int((0)\\cdot e^{-jwt}{dt})$"
      ],
      "text/plain": [
       "<IPython.core.display.Math object>"
      ]
     },
     "metadata": {},
     "output_type": "display_data"
    },
    {
     "name": "stdout",
     "output_type": "stream",
     "text": [
      "(0)-(0)\n"
     ]
    },
    {
     "data": {
      "text/latex": [
       "$\\displaystyle \\int((0)\\cdot e^{-jwt}{dt}) = 0$"
      ],
      "text/plain": [
       "<IPython.core.display.Math object>"
      ]
     },
     "metadata": {},
     "output_type": "display_data"
    },
    {
     "data": {
      "text/latex": [
       "$\\displaystyle (0)-(0) = -0$"
      ],
      "text/plain": [
       "<IPython.core.display.Math object>"
      ]
     },
     "metadata": {},
     "output_type": "display_data"
    },
    {
     "data": {
      "text/latex": [
       "$\\displaystyle \\cdots $"
      ],
      "text/plain": [
       "<IPython.core.display.Math object>"
      ]
     },
     "metadata": {},
     "output_type": "display_data"
    },
    {
     "data": {
      "text/latex": [
       "$\\displaystyle \\int((0)\\cdot e^{-jwt}{dt})$"
      ],
      "text/plain": [
       "<IPython.core.display.Math object>"
      ]
     },
     "metadata": {},
     "output_type": "display_data"
    },
    {
     "name": "stdout",
     "output_type": "stream",
     "text": [
      "(0)-(0)\n"
     ]
    },
    {
     "data": {
      "text/latex": [
       "$\\displaystyle \\int((0)\\cdot e^{-jwt}{dt}) = 0$"
      ],
      "text/plain": [
       "<IPython.core.display.Math object>"
      ]
     },
     "metadata": {},
     "output_type": "display_data"
    },
    {
     "data": {
      "text/latex": [
       "$\\displaystyle (0)-(0) = -0$"
      ],
      "text/plain": [
       "<IPython.core.display.Math object>"
      ]
     },
     "metadata": {},
     "output_type": "display_data"
    },
    {
     "data": {
      "text/latex": [
       "$\\displaystyle \\cdots $"
      ],
      "text/plain": [
       "<IPython.core.display.Math object>"
      ]
     },
     "metadata": {},
     "output_type": "display_data"
    },
    {
     "data": {
      "text/latex": [
       "$\\displaystyle \\int((t^2-1)\\cdot e^{-jwt}{dt})$"
      ],
      "text/plain": [
       "<IPython.core.display.Math object>"
      ]
     },
     "metadata": {},
     "output_type": "display_data"
    },
    {
     "name": "stdout",
     "output_type": "stream",
     "text": [
      "(-e^{-wj(4)}\\frac{1}{wj}(-1+(4)^{2})+\\frac{2}{w^{3}j^{3}}(-wje^{-wj(4)}(4)-e^{-wj(4)}))-(-e^{-wj(0)}\\frac{1}{wj}(-1+(0)^{2})+\\frac{2}{w^{3}j^{3}}(-wje^{-wj(0)}(0)-e^{-wj(0)}))\n"
     ]
    },
    {
     "data": {
      "text/latex": [
       "$\\displaystyle \\int((t^2-1)\\cdot e^{-jwt}{dt}) = -e^{-wjt}\\frac{1}{wj}(-1+t^{2})+\\frac{2}{w^{3}j^{3}}(-wje^{-wjt}t-e^{-wjt})$"
      ],
      "text/plain": [
       "<IPython.core.display.Math object>"
      ]
     },
     "metadata": {},
     "output_type": "display_data"
    },
    {
     "data": {
      "text/latex": [
       "$\\displaystyle (-e^{-wj(4)}\\frac{1}{wj}(-1+(4)^{2})+\\frac{2}{w^{3}j^{3}}(-wje^{-wj(4)}(4)-e^{-wj(4)}))-(-e^{-wj(0)}\\frac{1}{wj}(-1+(0)^{2})+\\frac{2}{w^{3}j^{3}}(-wje^{-wj(0)}(0)-e^{-wj(0)})) = \\frac{-15e^{-4jw}-1}{jw}+\\frac{2(-4je^{-4jw}w-e^{-4jw})+2}{j^{3}w^{3}}$"
      ],
      "text/plain": [
       "<IPython.core.display.Math object>"
      ]
     },
     "metadata": {},
     "output_type": "display_data"
    },
    {
     "data": {
      "text/latex": [
       "$\\displaystyle \\cdots $"
      ],
      "text/plain": [
       "<IPython.core.display.Math object>"
      ]
     },
     "metadata": {},
     "output_type": "display_data"
    },
    {
     "data": {
      "text/plain": [
       "['-0',\n",
       " '-0',\n",
       " '\\\\frac{-15e^{-4jw}-1}{jw}+\\\\frac{2(-4je^{-4jw}w-e^{-4jw})+2}{j^{3}w^{3}}']"
      ]
     },
     "execution_count": 12,
     "metadata": {},
     "output_type": "execute_result"
    }
   ],
   "source": [
    "\n",
    "compleja_terms = []\n",
    "steps[\"comment\"] = \"Integral compleja de fourier de $f(t)$\"\n",
    "steps[\"comment\"] = \"$\\\\frac{1}{2\\\\pi}\\\\int_{-\\\\infty}^{+\\\\infty}[\\\\int_{-\\\\infty}^{+\\\\infty}{f(\\\\tau)}e^{-jw\\\\tau}{d\\\\tau}]dw$\"\n",
    "for function in request[\"functions\"]:\n",
    "    f= function[\"f\"]\n",
    "    ran1 = function[\"r1\"]\n",
    "    ran2 = function[\"r2\"]\n",
    "    #OBTENER LA EXPRESION INTEGRAL CON TAO\n",
    "    integral2__ = f\"\\\\int(({f})\\\\cdot e^{{-jwt}}{{dt}})\"\n",
    "    display(Math(f\"{integral2__}\"))\n",
    "    compleja2,steps = evaluate(integral2__)\n",
    "    compleja2= compleja2.replace(\"+C\",\"\")\n",
    "    compleja2 = compleja2.replace(\"C\",\"0\")\n",
    "    steps[\"comment\"] = \"Obtenemos la primera integral para la forma compleja\"\n",
    "\n",
    "    #Obtener la expresión definida de la integral TAO\n",
    "    a = compleja2.replace(\"t\",f\"(\"+ran2+\")\")\n",
    "    b = compleja2.replace(\"t\",f\"(\"+ran1+\")\")\n",
    "\n",
    "    compleja2_defexpr = f\"(\"+a+\")-(\"+b+\")\"\n",
    "    print(compleja2_defexpr)\n",
    "    compleja_def,steps = evaluate(compleja2_defexpr)\n",
    "    steps[\"comment\"] = \"Obtenemos la integral definida para la forma compleja\"\n",
    "    global_steps.append(steps)\n",
    "    compleja_terms.append(compleja_def)\n",
    "    display(Math(f\"{integral2__} = {compleja2}\"))\n",
    "    display(Math(f\"{compleja2_defexpr} = {compleja_def}\"))\n",
    "    display(Math(\"\\cdots \"))\n",
    "\n",
    "#Si los terminos nos dan 0\n",
    "compleja_terms\n"
   ]
  },
  {
   "cell_type": "code",
   "execution_count": 313,
   "metadata": {},
   "outputs": [
    {
     "data": {
      "text/latex": [
       "$\\displaystyle \\frac{-15e^{-4jw}-1}{jw}+\\frac{2(-4je^{-4jw}w-e^{-4jw})+2}{j^{3}w^{3}}$"
      ],
      "text/plain": [
       "<IPython.core.display.Math object>"
      ]
     },
     "metadata": {},
     "output_type": "display_data"
    },
    {
     "data": {
      "text/latex": [
       "$\\displaystyle \\frac{1}{2\\pi}\\int_{-\\infty}^{+\\infty}\\frac{-15e^{-4jw}-1}{jw}+\\frac{2(-4je^{-4jw}w-e^{-4jw})+2}{j^{3}w^{3}}dw$"
      ],
      "text/plain": [
       "<IPython.core.display.Math object>"
      ]
     },
     "metadata": {},
     "output_type": "display_data"
    }
   ],
   "source": [
    "#compleja_terms = QuitarCeros(compleja_terms)\n",
    "compleja,steps = evaluate(\"{\"+'+'.join(compleja_terms)+\"}\")\n",
    "steps[\"comment\"] = \"Termino de la segunda integral\"\n",
    "compleja_final= \"\\\\frac{1}{2\\\\pi}\\\\int_{-\\\\infty}^{+\\\\infty}\"+compleja+\"dw\"\n",
    "global_steps.append(compleja_final)\n",
    "steps[\"comment\"] = \"Representación de la integral compleja de foutier de la función f(t)\"\n",
    "global_steps.append(steps)\n",
    "display(Math(compleja))\n",
    "display(Math(compleja_final))"
   ]
  },
  {
   "cell_type": "markdown",
   "metadata": {},
   "source": [
    "### Integral Trigonometrica"
   ]
  },
  {
   "cell_type": "code",
   "execution_count": 289,
   "metadata": {},
   "outputs": [
    {
     "name": "stdout",
     "output_type": "stream",
     "text": [
      "[{'f': '1', 'r1': '0', 'r2': '1'}, {'f': '0', 'r1': '1', 'r2': '+\\\\infty'}]\n",
      "\\frac{1}{w}\\sin(wx)+C\n",
      "(\\frac{1}{w}\\sin(w(1)))-(\\frac{1}{w}\\sin(w(0)))\n"
     ]
    },
    {
     "data": {
      "text/latex": [
       "$\\displaystyle \\int{1\\cdot\\cos(wx)dx} = \\frac{1}{w}\\sin(wx)$"
      ],
      "text/plain": [
       "<IPython.core.display.Math object>"
      ]
     },
     "metadata": {},
     "output_type": "display_data"
    },
    {
     "data": {
      "text/latex": [
       "$\\displaystyle (\\frac{1}{w}\\sin(w(1)))-(\\frac{1}{w}\\sin(w(0))) = \\frac{\\sin(w)}{w}$"
      ],
      "text/plain": [
       "<IPython.core.display.Math object>"
      ]
     },
     "metadata": {},
     "output_type": "display_data"
    },
    {
     "data": {
      "text/latex": [
       "$\\displaystyle \\cdots $"
      ],
      "text/plain": [
       "<IPython.core.display.Math object>"
      ]
     },
     "metadata": {},
     "output_type": "display_data"
    },
    {
     "name": "stdout",
     "output_type": "stream",
     "text": [
      "C\n",
      "(0)-(0)\n"
     ]
    },
    {
     "data": {
      "text/latex": [
       "$\\displaystyle \\int{0\\cdot\\cos(wx)dx} = 0$"
      ],
      "text/plain": [
       "<IPython.core.display.Math object>"
      ]
     },
     "metadata": {},
     "output_type": "display_data"
    },
    {
     "data": {
      "text/latex": [
       "$\\displaystyle (0)-(0) = -0$"
      ],
      "text/plain": [
       "<IPython.core.display.Math object>"
      ]
     },
     "metadata": {},
     "output_type": "display_data"
    },
    {
     "data": {
      "text/latex": [
       "$\\displaystyle \\cdots $"
      ],
      "text/plain": [
       "<IPython.core.display.Math object>"
      ]
     },
     "metadata": {},
     "output_type": "display_data"
    },
    {
     "name": "stdout",
     "output_type": "stream",
     "text": [
      "['\\\\frac{\\\\sin(w)}{w}', '-0']\n"
     ]
    }
   ],
   "source": [
    "intgr_trig = []\n",
    "print(functions)\n",
    "\n",
    "for function in request[\"functions\"]:\n",
    "        f= function[\"f\"]\n",
    "        ran1 = function[\"r1\"]\n",
    "        ran2 = function[\"r2\"]\n",
    "        if request[\"tipo\"] == \"par\":\n",
    "            intgr__expr = f\"\\\\int{{{f}\\\\cdot\\\\cos(wx)dx}}\"\n",
    "        elif request[\"tipo\"] ==\"impar\":\n",
    "            intgr__expr = f\"\\\\int{{{f}\\\\cdot\\\\sin(wx)dx}}\"\n",
    "        else: \n",
    "            intgr__expr = f\"\\\\int{{{f}\\\\cdot\\\\cos(wx)dx}}+\\\\int{{{f}\\\\cdot\\\\sin(wx)dx}}\"\n",
    "        #OBTENER LA EXPRESION INTEGRAL\n",
    "        intgr__,steps = evaluate(intgr__expr)\n",
    "        print(intgr__)\n",
    "        intgr__= intgr__.replace(\"+C\",\"\")\n",
    "        intgr__= intgr__.replace(\"C\",\"0\")\n",
    "        steps[\"comment\"] = \"Si la función es par entonces: $\\\\int_{-\\\\infty}^{+\\\\infty}{\\\\sin\\\\tau\\\\cdot d\\\\tau} = 0$\"\n",
    "        steps[\"comment\"] = \"Obtenemos la expresión de la integral para obtener la forma trigonometrica\"\n",
    "\n",
    "        #obtener la integral definida\n",
    "        a = intgr__.replace(\"x\",f\"(\"+ran2+\")\")\n",
    "        b = intgr__.replace(\"x\",f\"(\"+ran1+\")\")\n",
    "        intgr__defexpr = f\"(\"+a+\")-(\"+b+\")\"\n",
    "        print(intgr__defexpr)\n",
    "        intgr__def,steps = evaluate(intgr__defexpr)\n",
    "        steps[\"comment\"] = \"Obtenemos la integral definida para la forma Trigonometrica\"\n",
    "        global_steps.append(steps)\n",
    "        intgr_trig.append(intgr__def)\n",
    "        display(Math(f\"{intgr__expr} = {intgr__}\"))\n",
    "        display(Math(f\"{intgr__defexpr} = {intgr__def}\"))\n",
    "        display(Math(\"\\cdots \"))\n",
    "print(intgr_trig)\n"
   ]
  },
  {
   "cell_type": "code",
   "execution_count": 290,
   "metadata": {},
   "outputs": [
    {
     "name": "stdout",
     "output_type": "stream",
     "text": [
      "['\\\\frac{\\\\sin(w)}{w}', '-0']\n"
     ]
    },
    {
     "data": {
      "text/latex": [
       "$\\displaystyle \\frac{ 2 }{\\pi}\\int_0^{+\\infty}{\\frac{\\sin(w)}{w}}(\\cos(w))dw$"
      ],
      "text/plain": [
       "<IPython.core.display.Math object>"
      ]
     },
     "metadata": {},
     "output_type": "display_data"
    },
    {
     "data": {
      "text/latex": [
       "$\\displaystyle \\frac{1}{2}-\\frac{\\Si(2\\cdot 0)}{π}$"
      ],
      "text/plain": [
       "<IPython.core.display.Math object>"
      ]
     },
     "metadata": {},
     "output_type": "display_data"
    }
   ],
   "source": [
    "print(intgr_trig)\n",
    "forma_trig,steps = evaluate(\"{\"+'+'.join(intgr_trig)+\"}\")\n",
    "steps[\"comment\"] = \"Forma trigonometrica de Fourier\"\n",
    "formatrig_final= f\"\\\\frac{{ 2 }}{{\\\\pi}}\\\\int_{0}^{{+\\\\infty}}{{{forma_trig}}}(\\\\cos(w))dw\"\n",
    "evaluate_formtrig,steps = evaluate(formatrig_final)\n",
    "display(Math(formatrig_final))\n",
    "display(Math(evaluate_formtrig))"
   ]
  },
  {
   "cell_type": "code",
   "execution_count": null,
   "metadata": {},
   "outputs": [],
   "source": []
  }
 ],
 "metadata": {
  "interpreter": {
   "hash": "64bc7a045511d70f24bcbacd0b476d6db2c397a5d8e58ccd2b3576b906af12b8"
  },
  "kernelspec": {
   "display_name": "Python 3.9.7 64-bit",
   "name": "python3"
  },
  "language_info": {
   "codemirror_mode": {
    "name": "ipython",
    "version": 3
   },
   "file_extension": ".py",
   "mimetype": "text/x-python",
   "name": "python",
   "nbconvert_exporter": "python",
   "pygments_lexer": "ipython3",
   "version": "3.9.7"
  },
  "orig_nbformat": 4
 },
 "nbformat": 4,
 "nbformat_minor": 2
}
